{
 "cells": [
  {
   "cell_type": "markdown",
   "id": "44c835c6",
   "metadata": {},
   "source": [
    " IMPORTING THE LIBRARIES"
   ]
  },
  {
   "cell_type": "code",
   "execution_count": 1,
   "id": "5380b98c",
   "metadata": {},
   "outputs": [
    {
     "name": "stdout",
     "output_type": "stream",
     "text": [
      "WARNING:tensorflow:From C:\\Users\\sahii\\anaconda3\\envs\\myenv\\lib\\site-packages\\tensorflow\\python\\compat\\v2_compat.py:107: disable_resource_variables (from tensorflow.python.ops.variable_scope) is deprecated and will be removed in a future version.\n",
      "Instructions for updating:\n",
      "non-resource variables are not supported in the long term\n",
      "curses is not supported on this machine (please install/reinstall curses for an optimal experience)\n",
      "Scipy not supported!\n"
     ]
    }
   ],
   "source": [
    "import nltk\n",
    "from nltk.stem.lancaster import LancasterStemmer\n",
    "stemmer = LancasterStemmer()\n",
    "import time\n",
    "import difflib\n",
    "import numpy\n",
    "import json\n",
    "import pickle\n",
    "import random\n",
    "import os\n",
    "import tflearn"
   ]
  },
  {
   "cell_type": "markdown",
   "id": "ff0d8fc9",
   "metadata": {},
   "source": [
    "PRE-PROCESSING THE DATA"
   ]
  },
  {
   "cell_type": "code",
   "execution_count": null,
   "id": "b3ad3d18",
   "metadata": {},
   "outputs": [],
   "source": []
  },
  {
   "cell_type": "code",
   "execution_count": 2,
   "id": "c86acabb",
   "metadata": {},
   "outputs": [],
   "source": [
    "file_path = 'intents.json'\n",
    "\n",
    "with open(file_path) as file:\n",
    "    data = json.load(file)\n",
    "\n",
    "\n",
    "\n",
    "try:\n",
    "    with open('data.pickle','rb') as f:\n",
    "        words, labels, training, output = pickle.load(f)\n",
    "except:\n",
    "    words,labels,docs_patt,docs_tag = [],[],[],[]\n",
    "    \n",
    "# TOKENISATION & STEMMING\n",
    "    for intent in data['intents']:\n",
    "        for pattern in intent['patterns']:\n",
    "            wrds = nltk.word_tokenize(pattern)\n",
    "            for item in wrds:\n",
    "                words.extend(wrds)\n",
    "                docs_patt.append(wrds)\n",
    "                docs_tag.append(intent['tag'])\n",
    "                if intent['tag'] not in labels:\n",
    "                    labels.append(intent['tag'])\n",
    "    \n",
    "    words = [stemmer.stem(w.lower()) for w in words]\n",
    "    words = sorted(list(set(words)))\n",
    "    labels = sorted(labels)\n",
    "    \n",
    "    training = []\n",
    "    output = []\n",
    "    \n",
    "    out_empty = [0 for _ in range(len(labels))]\n",
    "\n",
    "# BAG OF WORDS - FEATURE ENGINEERING\n",
    "    \n",
    "    for x,doc in enumerate(docs_patt):\n",
    "        bag = []\n",
    "        wrds = [stemmer.stem(w.lower()) for w in doc]\n",
    "        for w in words:\n",
    "            if w in wrds:\n",
    "                bag.append(1)\n",
    "                \n",
    "            else:\n",
    "                bag.append(0)\n",
    "                \n",
    "        output_row = out_empty[:]\n",
    "        output_row[labels.index(docs_tag[x])] = 1\n",
    "        \n",
    "        training.append(bag)\n",
    "        output.append(output_row)\n",
    "        \n",
    "    training = numpy.array(training)\n",
    "    output = numpy.array(output)\n",
    "    \n",
    "    with open('data.pickle','wb') as f:\n",
    "        pickle.dump((words,labels,training,output),f)       \n",
    "    "
   ]
  },
  {
   "cell_type": "markdown",
   "id": "29d31f0a",
   "metadata": {},
   "source": [
    "MODEL BUILDING"
   ]
  },
  {
   "cell_type": "code",
   "execution_count": 3,
   "id": "54bc45a2",
   "metadata": {},
   "outputs": [
    {
     "name": "stdout",
     "output_type": "stream",
     "text": [
      "WARNING:tensorflow:From C:\\Users\\sahii\\anaconda3\\envs\\myenv\\lib\\site-packages\\tflearn\\initializations.py:165: calling TruncatedNormal.__init__ (from tensorflow.python.ops.init_ops) with dtype is deprecated and will be removed in a future version.\n",
      "Instructions for updating:\n",
      "Call initializer instance with the dtype argument instead of passing it to the constructor\n"
     ]
    }
   ],
   "source": [
    "from tensorflow.python.framework import ops\n",
    "ops.reset_default_graph()\n",
    "\n",
    "net = tflearn.input_data(shape=[None,len(training[0])])\n",
    "net = tflearn.fully_connected(net,8)\n",
    "net = tflearn.fully_connected(net,8)\n",
    "net = tflearn.fully_connected(net,len(output[0]),activation='softmax')\n",
    "net = tflearn.regression(net)\n",
    "\n",
    "model = tflearn.DNN(net)\n",
    "    "
   ]
  },
  {
   "cell_type": "markdown",
   "id": "285dd825",
   "metadata": {},
   "source": [
    "BATCH GRADIENT DESCEND -> BATCH SIZE=8, NO. OF EPOCHES = 1000"
   ]
  },
  {
   "cell_type": "code",
   "execution_count": 4,
   "id": "88426699",
   "metadata": {},
   "outputs": [
    {
     "name": "stdout",
     "output_type": "stream",
     "text": [
      "INFO:tensorflow:Restoring parameters from C:\\Users\\sahii\\Final_Project\\model.tflearn\n"
     ]
    }
   ],
   "source": [
    "try:\n",
    "    model.load('model.tflearn')\n",
    "except:\n",
    "    model = tflearn.DNN(net)\n",
    "    history = model.fit(training,output,n_epoch=1000,batch_size=8,show_metric=True)\n",
    "    model.save('model.tflearn')\n",
    "    "
   ]
  },
  {
   "cell_type": "markdown",
   "id": "3ab8a24e",
   "metadata": {},
   "source": [
    "INPUT PRE PROCESSING"
   ]
  },
  {
   "cell_type": "code",
   "execution_count": 5,
   "id": "5155c901",
   "metadata": {},
   "outputs": [],
   "source": [
    "def bag_of_words(s,words):\n",
    "    bag = [0 for _ in range(len(words))]\n",
    "    \n",
    "    s_words = nltk.word_tokenize(s)\n",
    "    s_words = [stemmer.stem(word.lower()) for word in s_words]\n",
    "    \n",
    "    for se in s_words:\n",
    "        for i,w in enumerate(words):\n",
    "            if w == se:\n",
    "                bag[i] = 1\n",
    "    return numpy.array(bag)\n"
   ]
  },
  {
   "cell_type": "code",
   "execution_count": 6,
   "id": "69485d29",
   "metadata": {},
   "outputs": [],
   "source": [
    "def words_to_list(s):\n",
    "    a = []\n",
    "    ns = \"\"\n",
    "    s = s + \" \"\n",
    "    \n",
    "    for i in range(len(s)):\n",
    "        if s[i] == \" \":\n",
    "            a.append(ns)\n",
    "            ns = \"\"\n",
    "        else:\n",
    "            ns = ns + s[i]\n",
    "            \n",
    "    a = list(set(a))\n",
    "    return a\n"
   ]
  },
  {
   "cell_type": "code",
   "execution_count": 7,
   "id": "9c9ad10f",
   "metadata": {},
   "outputs": [],
   "source": [
    "# PASSS THE FILE IN THIS FUNCTION TO CREATE A DICITIONARY OF UNIQUE VOCABULARY\n",
    "\n",
    "def json_to_dictionary(data):\n",
    "    dictionary = []\n",
    "    fil_dict = []\n",
    "    vocalubary = []\n",
    "    for i in data['intents']:\n",
    "        for pattern in i['patterns']:\n",
    "            vocalubary.append(pattern.lower())\n",
    "            \n",
    "    for i in vocalubary:\n",
    "        dictionary.append(words_to_list(i))\n",
    "        \n",
    "    for i in range(len(dictionary)):\n",
    "        for word in dictionary[i]:\n",
    "            fil_dict.append(word)\n",
    "    return list(set(fil_dict))\n",
    "\n",
    "# THIS FUNCTION CHECKS THE SPELLING IN THE SENTENCE\n",
    "chatbot_vocalubary = json_to_dictionary(data)"
   ]
  },
  {
   "cell_type": "code",
   "execution_count": 8,
   "id": "532ca447",
   "metadata": {},
   "outputs": [],
   "source": [
    "def word_checker(s):\n",
    "    correct_string = \"\"\n",
    "    for word in s.casefold().split():\n",
    "        if word not in chatbot_vocalubary:\n",
    "            suggestion = difflib.get_close_matches(word,chatbot_vocalubary)\n",
    "            \n",
    "            for x in suggestion:\n",
    "                pass\n",
    "            if len(suggestion) == 0:\n",
    "                pass\n",
    "            else:\n",
    "                correct_string = correct_string + \" \" + str(suggestion[0])\n",
    "                \n",
    "        else:\n",
    "            correct_string = correct_string + \" \" + str(word)\n",
    "            \n",
    "    return correct_string\n"
   ]
  },
  {
   "cell_type": "markdown",
   "id": "0357fd3c",
   "metadata": {},
   "source": [
    "CHAT FUNCTION"
   ]
  },
  {
   "cell_type": "code",
   "execution_count": 12,
   "id": "ae3d892a",
   "metadata": {},
   "outputs": [
    {
     "name": "stdout",
     "output_type": "stream",
     "text": [
      "BOT : Hi! I am your personal bot. I am here to answer queries on DBATU\n",
      "YOU : Hi\n",
      "BOT : Hi there, how can I help?\n",
      "YOU : What is DBATU?\n",
      "BOT : Dr. Babasaheb Ambedkar Technological University (DBATU) is a renowned technological university in Maharashtra, India.\n",
      "YOU : Tell me about clubs at DBATU?\n",
      "BOT : Yes, DBATU has various student clubs and organizations that students can join. These clubs promote extracurricular activities and personal development.\n",
      "YOU : List of programs\n",
      "BOT : DBATU offers a wide range of undergraduate, postgraduate, and doctoral programs in fields such as engineering, technology, and management. You can find detailed information about these programs on the official university website.\n",
      "YOU : Food option on campus\n",
      "BOT : DBATU has a canteen on campus that serves a variety of food options. You can enjoy a range of snacks and meals in the canteen during its operational hours.\n",
      "YOU : What is full form of DBATU?\n",
      "BOT : Sorry, I don't know how to answer that yet\n",
      "YOU : When DBATU were established?\n",
      "BOT : Sorry, I don't know how to answer that yet\n",
      "YOU : Who is vice chancellor of dbatu?\n",
      "BOT : Yes, DBATU has various student clubs and organizations that students can join. These clubs promote extracurricular activities and personal development.\n",
      "YOU : vice chancellor of dbatu\n",
      "BOT : The tuition fees for courses at DBATU can vary based on the program, category, and other factors. It's best to check the official website or contact the university's finance department for specific fee details.\n",
      "YOU : quit\n"
     ]
    }
   ],
   "source": [
    "def chat():\n",
    "    print(\"BOT : Hi! I am your personal bot. I am here to answer queries on DBATU\")\n",
    "    while True:\n",
    "        inp = input('YOU : ')\n",
    "        if inp.lower() == 'quit' or inp == None:\n",
    "            break\n",
    "            \n",
    "        inp_x = word_checker(inp)\n",
    "        results = model.predict([bag_of_words(inp_x,words)])[0]\n",
    "        results_index = numpy.argmax(results)\n",
    "        tag = labels[results_index]\n",
    "        \n",
    "        if results[results_index] >= 0.9:\n",
    "            for tg in data['intents']:\n",
    "                if tg['tag'] == tag:\n",
    "                    responses = tg['responses']\n",
    "                    ms = random.choice(responses)\n",
    "                    print('BOT : {}'.format(ms))\n",
    "                    \n",
    "                \n",
    "        else:\n",
    "            print(\"BOT : Sorry, I don't know how to answer that yet\")\n",
    "            \n",
    "            \n",
    "chat()"
   ]
  },
  {
   "cell_type": "code",
   "execution_count": null,
   "id": "2f8a8896",
   "metadata": {},
   "outputs": [],
   "source": []
  },
  {
   "cell_type": "code",
   "execution_count": null,
   "id": "fb1035aa",
   "metadata": {},
   "outputs": [],
   "source": []
  },
  {
   "cell_type": "code",
   "execution_count": null,
   "id": "cc398740",
   "metadata": {},
   "outputs": [],
   "source": []
  },
  {
   "cell_type": "code",
   "execution_count": null,
   "id": "006bcd6e",
   "metadata": {},
   "outputs": [],
   "source": []
  }
 ],
 "metadata": {
  "kernelspec": {
   "display_name": "My Environment",
   "language": "python",
   "name": "myenv"
  },
  "language_info": {
   "codemirror_mode": {
    "name": "ipython",
    "version": 3
   },
   "file_extension": ".py",
   "mimetype": "text/x-python",
   "name": "python",
   "nbconvert_exporter": "python",
   "pygments_lexer": "ipython3",
   "version": "3.7.16"
  }
 },
 "nbformat": 4,
 "nbformat_minor": 5
}
